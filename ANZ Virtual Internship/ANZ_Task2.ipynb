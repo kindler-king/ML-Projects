{
  "nbformat": 4,
  "nbformat_minor": 0,
  "metadata": {
    "kernelspec": {
      "display_name": "Python 3",
      "language": "python",
      "name": "python3"
    },
    "language_info": {
      "codemirror_mode": {
        "name": "ipython",
        "version": 3
      },
      "file_extension": ".py",
      "mimetype": "text/x-python",
      "name": "python",
      "nbconvert_exporter": "python",
      "pygments_lexer": "ipython3",
      "version": "3.8.1"
    },
    "colab": {
      "name": "ANZ Task2.ipynb",
      "provenance": [],
      "toc_visible": true
    }
  },
  "cells": [
    {
      "cell_type": "code",
      "metadata": {
        "id": "t6DgZvIBQ90x",
        "colab_type": "code",
        "colab": {}
      },
      "source": [
        "import numpy as np\n",
        "import pandas as pd\n",
        "import matplotlib.pyplot as plt\n",
        "from sklearn.model_selection import train_test_split\n",
        "from sklearn.linear_model import LinearRegression\n",
        "from sklearn.tree import DecisionTreeClassifier, DecisionTreeRegressor"
      ],
      "execution_count": 106,
      "outputs": []
    },
    {
      "cell_type": "code",
      "metadata": {
        "id": "utZmpy_WQ903",
        "colab_type": "code",
        "colab": {}
      },
      "source": [
        "df=pd.read_excel('ANZ synthesised transaction dataset.xlsx')"
      ],
      "execution_count": 107,
      "outputs": []
    },
    {
      "cell_type": "markdown",
      "metadata": {
        "id": "lb0aLDZtXBFW",
        "colab_type": "text"
      },
      "source": [
        "#BASIC ANALYSIS OF THE DATA"
      ]
    },
    {
      "cell_type": "code",
      "metadata": {
        "id": "fcn_U3xBQ907",
        "colab_type": "code",
        "colab": {
          "base_uri": "https://localhost:8080/",
          "height": 527
        },
        "outputId": "f4f9d209-dd19-4e25-bdc6-7d369ab5be97"
      },
      "source": [
        "df.info()"
      ],
      "execution_count": 108,
      "outputs": [
        {
          "output_type": "stream",
          "text": [
            "<class 'pandas.core.frame.DataFrame'>\n",
            "RangeIndex: 12043 entries, 0 to 12042\n",
            "Data columns (total 23 columns):\n",
            " #   Column             Non-Null Count  Dtype         \n",
            "---  ------             --------------  -----         \n",
            " 0   status             12043 non-null  object        \n",
            " 1   card_present_flag  7717 non-null   float64       \n",
            " 2   bpay_biller_code   885 non-null    object        \n",
            " 3   account            12043 non-null  object        \n",
            " 4   currency           12043 non-null  object        \n",
            " 5   long_lat           12043 non-null  object        \n",
            " 6   txn_description    12043 non-null  object        \n",
            " 7   merchant_id        7717 non-null   object        \n",
            " 8   merchant_code      883 non-null    float64       \n",
            " 9   first_name         12043 non-null  object        \n",
            " 10  balance            12043 non-null  float64       \n",
            " 11  date               12043 non-null  datetime64[ns]\n",
            " 12  gender             12043 non-null  object        \n",
            " 13  age                12043 non-null  int64         \n",
            " 14  merchant_suburb    7717 non-null   object        \n",
            " 15  merchant_state     7717 non-null   object        \n",
            " 16  extraction         12043 non-null  object        \n",
            " 17  amount             12043 non-null  float64       \n",
            " 18  transaction_id     12043 non-null  object        \n",
            " 19  country            12043 non-null  object        \n",
            " 20  customer_id        12043 non-null  object        \n",
            " 21  merchant_long_lat  7717 non-null   object        \n",
            " 22  movement           12043 non-null  object        \n",
            "dtypes: datetime64[ns](1), float64(4), int64(1), object(17)\n",
            "memory usage: 2.1+ MB\n"
          ],
          "name": "stdout"
        }
      ]
    },
    {
      "cell_type": "code",
      "metadata": {
        "id": "TC11YCdNQ91C",
        "colab_type": "code",
        "colab": {
          "base_uri": "https://localhost:8080/",
          "height": 297
        },
        "outputId": "58e9e72d-88a3-49f4-8de6-780d367a6dd3"
      },
      "source": [
        "df.describe()"
      ],
      "execution_count": 183,
      "outputs": [
        {
          "output_type": "execute_result",
          "data": {
            "text/html": [
              "<div>\n",
              "<style scoped>\n",
              "    .dataframe tbody tr th:only-of-type {\n",
              "        vertical-align: middle;\n",
              "    }\n",
              "\n",
              "    .dataframe tbody tr th {\n",
              "        vertical-align: top;\n",
              "    }\n",
              "\n",
              "    .dataframe thead th {\n",
              "        text-align: right;\n",
              "    }\n",
              "</style>\n",
              "<table border=\"1\" class=\"dataframe\">\n",
              "  <thead>\n",
              "    <tr style=\"text-align: right;\">\n",
              "      <th></th>\n",
              "      <th>card_present_flag</th>\n",
              "      <th>merchant_code</th>\n",
              "      <th>balance</th>\n",
              "      <th>age</th>\n",
              "      <th>amount</th>\n",
              "      <th>annual_salary</th>\n",
              "    </tr>\n",
              "  </thead>\n",
              "  <tbody>\n",
              "    <tr>\n",
              "      <th>count</th>\n",
              "      <td>7717.000000</td>\n",
              "      <td>883.0</td>\n",
              "      <td>12043.000000</td>\n",
              "      <td>12043.000000</td>\n",
              "      <td>12043.000000</td>\n",
              "      <td>12043.000000</td>\n",
              "    </tr>\n",
              "    <tr>\n",
              "      <th>mean</th>\n",
              "      <td>0.802644</td>\n",
              "      <td>0.0</td>\n",
              "      <td>14704.195553</td>\n",
              "      <td>30.582330</td>\n",
              "      <td>187.933588</td>\n",
              "      <td>2283.731628</td>\n",
              "    </tr>\n",
              "    <tr>\n",
              "      <th>std</th>\n",
              "      <td>0.398029</td>\n",
              "      <td>0.0</td>\n",
              "      <td>31503.722652</td>\n",
              "      <td>10.046343</td>\n",
              "      <td>592.599934</td>\n",
              "      <td>1405.261035</td>\n",
              "    </tr>\n",
              "    <tr>\n",
              "      <th>min</th>\n",
              "      <td>0.000000</td>\n",
              "      <td>0.0</td>\n",
              "      <td>0.240000</td>\n",
              "      <td>18.000000</td>\n",
              "      <td>0.100000</td>\n",
              "      <td>576.000000</td>\n",
              "    </tr>\n",
              "    <tr>\n",
              "      <th>25%</th>\n",
              "      <td>1.000000</td>\n",
              "      <td>0.0</td>\n",
              "      <td>3158.585000</td>\n",
              "      <td>22.000000</td>\n",
              "      <td>16.000000</td>\n",
              "      <td>1068.000000</td>\n",
              "    </tr>\n",
              "    <tr>\n",
              "      <th>50%</th>\n",
              "      <td>1.000000</td>\n",
              "      <td>0.0</td>\n",
              "      <td>6432.010000</td>\n",
              "      <td>28.000000</td>\n",
              "      <td>29.000000</td>\n",
              "      <td>1928.000000</td>\n",
              "    </tr>\n",
              "    <tr>\n",
              "      <th>75%</th>\n",
              "      <td>1.000000</td>\n",
              "      <td>0.0</td>\n",
              "      <td>12465.945000</td>\n",
              "      <td>38.000000</td>\n",
              "      <td>53.655000</td>\n",
              "      <td>2887.000000</td>\n",
              "    </tr>\n",
              "    <tr>\n",
              "      <th>max</th>\n",
              "      <td>1.000000</td>\n",
              "      <td>0.0</td>\n",
              "      <td>267128.520000</td>\n",
              "      <td>78.000000</td>\n",
              "      <td>8835.980000</td>\n",
              "      <td>8835.000000</td>\n",
              "    </tr>\n",
              "  </tbody>\n",
              "</table>\n",
              "</div>"
            ],
            "text/plain": [
              "       card_present_flag  merchant_code  ...        amount  annual_salary\n",
              "count        7717.000000          883.0  ...  12043.000000   12043.000000\n",
              "mean            0.802644            0.0  ...    187.933588    2283.731628\n",
              "std             0.398029            0.0  ...    592.599934    1405.261035\n",
              "min             0.000000            0.0  ...      0.100000     576.000000\n",
              "25%             1.000000            0.0  ...     16.000000    1068.000000\n",
              "50%             1.000000            0.0  ...     29.000000    1928.000000\n",
              "75%             1.000000            0.0  ...     53.655000    2887.000000\n",
              "max             1.000000            0.0  ...   8835.980000    8835.000000\n",
              "\n",
              "[8 rows x 6 columns]"
            ]
          },
          "metadata": {
            "tags": []
          },
          "execution_count": 183
        }
      ]
    },
    {
      "cell_type": "markdown",
      "metadata": {
        "id": "4nqmp6jGQ91H",
        "colab_type": "text"
      },
      "source": [
        "Vizualising our Data"
      ]
    },
    {
      "cell_type": "code",
      "metadata": {
        "id": "F4GyUV2tQ91H",
        "colab_type": "code",
        "colab": {
          "base_uri": "https://localhost:8080/",
          "height": 68
        },
        "outputId": "a710ccb4-d698-4ecb-fc30-db3e621086f5"
      },
      "source": [
        "df['movement'].value_counts()"
      ],
      "execution_count": 184,
      "outputs": [
        {
          "output_type": "execute_result",
          "data": {
            "text/plain": [
              "debit     11160\n",
              "credit      883\n",
              "Name: movement, dtype: int64"
            ]
          },
          "metadata": {
            "tags": []
          },
          "execution_count": 184
        }
      ]
    },
    {
      "cell_type": "code",
      "metadata": {
        "id": "kM-P5VjqQ91L",
        "colab_type": "code",
        "colab": {
          "base_uri": "https://localhost:8080/",
          "height": 625
        },
        "outputId": "657d69fd-a3ae-4b87-cdea-9842530894da"
      },
      "source": [
        "df['long_lat'].value_counts().head(10).plot(kind='pie',radius=3,autopct='%.1f%%')"
      ],
      "execution_count": 185,
      "outputs": [
        {
          "output_type": "execute_result",
          "data": {
            "text/plain": [
              "<matplotlib.axes._subplots.AxesSubplot at 0x7fe5fbe6a828>"
            ]
          },
          "metadata": {
            "tags": []
          },
          "execution_count": 185
        },
        {
          "output_type": "display_data",
          "data": {
            "image/png": "[encoded data removed]",
            "text/plain": [
              "<Figure size 432x288 with 1 Axes>"
            ]
          },
          "metadata": {
            "tags": []
          }
        }
      ]
    },
    {
      "cell_type": "code",
      "metadata": {
        "id": "VAHyc4WFQ91N",
        "colab_type": "code",
        "colab": {
          "base_uri": "https://localhost:8080/",
          "height": 293
        },
        "outputId": "47662a00-f23e-491f-e02a-caf4e226c43b"
      },
      "source": [
        "M_toexp=0\n",
        "F_toexp=0\n",
        "for ind in df.index:\n",
        "    if df['gender'][ind]=='M':\n",
        "        M_toexp=M_toexp+df['balance'][ind]\n",
        "    else:\n",
        "        F_toexp=F_toexp+df['balance'][ind]\n",
        "exp_list=[M_toexp,F_toexp]\n",
        "label_list=['Male Expenditure','Female Expenditure']\n",
        "plt.bar(label_list,exp_list)"
      ],
      "execution_count": 186,
      "outputs": [
        {
          "output_type": "execute_result",
          "data": {
            "text/plain": [
              "<BarContainer object of 2 artists>"
            ]
          },
          "metadata": {
            "tags": []
          },
          "execution_count": 186
        },
        {
          "output_type": "display_data",
          "data": {
            "image/png": "[encoded data removed]",
            "text/plain": [
              "<Figure size 432x288 with 1 Axes>"
            ]
          },
          "metadata": {
            "tags": [],
            "needs_background": "light"
          }
        }
      ]
    },
    {
      "cell_type": "markdown",
      "metadata": {
        "id": "nBKnzBMZQ91P",
        "colab_type": "text"
      },
      "source": [
        "Seperating the customers into different segments based on their account balance to be used for reccomendations. Customers in the mid ranged bracket and high range bracket tend to spend more on online purchases than the ones in the low range bracket."
      ]
    },
    {
      "cell_type": "code",
      "metadata": {
        "id": "BNdp2baAQ91Q",
        "colab_type": "code",
        "colab": {}
      },
      "source": [
        "l=[]\n",
        "l1=[]\n",
        "l2=[]\n",
        "l3=[]\n",
        "l4=[]\n",
        "l5=[]\n",
        "l6=[]\n",
        "l7=[]\n",
        "l8=[]\n",
        "\n",
        "\n",
        "for ind in df.index:\n",
        "    if df['balance'][ind] > 150000:\n",
        "        temp= df['balance'][ind]\n",
        "        temp1= df['gender'][ind]\n",
        "        temp2=df['age'][ind]\n",
        "        l.append(temp)\n",
        "        l1.append(temp1)\n",
        "        l2.append(temp2)\n",
        "    elif df['balance'][ind] < 150000 and df['balance'][ind] > 50000:\n",
        "        temp= df['balance'][ind]\n",
        "        temp1= df['gender'][ind]\n",
        "        temp2=df['age'][ind]\n",
        "        l3.append(temp)\n",
        "        l4.append(temp1)\n",
        "        l5.append(temp2)\n",
        "    else:\n",
        "        temp= df['balance'][ind]\n",
        "        temp1= df['gender'][ind]\n",
        "        temp2=df['age'][ind]\n",
        "        l6.append(temp)\n",
        "        l7.append(temp1)\n",
        "        l8.append(temp2)\n",
        "\n",
        "rich={'Balance': l, 'Gender': l1, 'age':l2}\n",
        "middle={'Balance': l3, 'Gender': l4, 'age':l5}\n",
        "poor={'Balance': l6, 'Gender': l7, 'age':l8}\n",
        "    "
      ],
      "execution_count": 187,
      "outputs": []
    },
    {
      "cell_type": "code",
      "metadata": {
        "id": "Ipu9rgfNQ91S",
        "colab_type": "code",
        "colab": {}
      },
      "source": [
        "richdf=pd.DataFrame.from_dict(rich)\n",
        "middledf=pd.DataFrame.from_dict(middle)\n",
        "poordf=pd.DataFrame.from_dict(poor)"
      ],
      "execution_count": 188,
      "outputs": []
    },
    {
      "cell_type": "code",
      "metadata": {
        "id": "AnD1UpEQQ91U",
        "colab_type": "code",
        "colab": {
          "base_uri": "https://localhost:8080/",
          "height": 204
        },
        "outputId": "540b1b83-f58a-4c2e-fa6e-5c5605785761"
      },
      "source": [
        "#Details of the Richer customers \n",
        "richdf.head(5)"
      ],
      "execution_count": 189,
      "outputs": [
        {
          "output_type": "execute_result",
          "data": {
            "text/html": [
              "<div>\n",
              "<style scoped>\n",
              "    .dataframe tbody tr th:only-of-type {\n",
              "        vertical-align: middle;\n",
              "    }\n",
              "\n",
              "    .dataframe tbody tr th {\n",
              "        vertical-align: top;\n",
              "    }\n",
              "\n",
              "    .dataframe thead th {\n",
              "        text-align: right;\n",
              "    }\n",
              "</style>\n",
              "<table border=\"1\" class=\"dataframe\">\n",
              "  <thead>\n",
              "    <tr style=\"text-align: right;\">\n",
              "      <th></th>\n",
              "      <th>Balance</th>\n",
              "      <th>Gender</th>\n",
              "      <th>age</th>\n",
              "    </tr>\n",
              "  </thead>\n",
              "  <tbody>\n",
              "    <tr>\n",
              "      <th>0</th>\n",
              "      <td>260514.83</td>\n",
              "      <td>M</td>\n",
              "      <td>46</td>\n",
              "    </tr>\n",
              "    <tr>\n",
              "      <th>1</th>\n",
              "      <td>186371.86</td>\n",
              "      <td>F</td>\n",
              "      <td>40</td>\n",
              "    </tr>\n",
              "    <tr>\n",
              "      <th>2</th>\n",
              "      <td>186344.95</td>\n",
              "      <td>F</td>\n",
              "      <td>40</td>\n",
              "    </tr>\n",
              "    <tr>\n",
              "      <th>3</th>\n",
              "      <td>186236.30</td>\n",
              "      <td>F</td>\n",
              "      <td>40</td>\n",
              "    </tr>\n",
              "    <tr>\n",
              "      <th>4</th>\n",
              "      <td>186195.30</td>\n",
              "      <td>F</td>\n",
              "      <td>40</td>\n",
              "    </tr>\n",
              "  </tbody>\n",
              "</table>\n",
              "</div>"
            ],
            "text/plain": [
              "     Balance Gender  age\n",
              "0  260514.83      M   46\n",
              "1  186371.86      F   40\n",
              "2  186344.95      F   40\n",
              "3  186236.30      F   40\n",
              "4  186195.30      F   40"
            ]
          },
          "metadata": {
            "tags": []
          },
          "execution_count": 189
        }
      ]
    },
    {
      "cell_type": "code",
      "metadata": {
        "id": "qqewUV7CQ91W",
        "colab_type": "code",
        "colab": {
          "base_uri": "https://localhost:8080/",
          "height": 204
        },
        "outputId": "4fc6a500-7634-4a73-c4b2-ee0b7a878997"
      },
      "source": [
        "middledf.head(5)"
      ],
      "execution_count": 190,
      "outputs": [
        {
          "output_type": "execute_result",
          "data": {
            "text/html": [
              "<div>\n",
              "<style scoped>\n",
              "    .dataframe tbody tr th:only-of-type {\n",
              "        vertical-align: middle;\n",
              "    }\n",
              "\n",
              "    .dataframe tbody tr th {\n",
              "        vertical-align: top;\n",
              "    }\n",
              "\n",
              "    .dataframe thead th {\n",
              "        text-align: right;\n",
              "    }\n",
              "</style>\n",
              "<table border=\"1\" class=\"dataframe\">\n",
              "  <thead>\n",
              "    <tr style=\"text-align: right;\">\n",
              "      <th></th>\n",
              "      <th>Balance</th>\n",
              "      <th>Gender</th>\n",
              "      <th>age</th>\n",
              "    </tr>\n",
              "  </thead>\n",
              "  <tbody>\n",
              "    <tr>\n",
              "      <th>0</th>\n",
              "      <td>58154.74</td>\n",
              "      <td>M</td>\n",
              "      <td>33</td>\n",
              "    </tr>\n",
              "    <tr>\n",
              "      <th>1</th>\n",
              "      <td>50383.16</td>\n",
              "      <td>M</td>\n",
              "      <td>38</td>\n",
              "    </tr>\n",
              "    <tr>\n",
              "      <th>2</th>\n",
              "      <td>58111.04</td>\n",
              "      <td>M</td>\n",
              "      <td>33</td>\n",
              "    </tr>\n",
              "    <tr>\n",
              "      <th>3</th>\n",
              "      <td>54980.99</td>\n",
              "      <td>M</td>\n",
              "      <td>40</td>\n",
              "    </tr>\n",
              "    <tr>\n",
              "      <th>4</th>\n",
              "      <td>50671.14</td>\n",
              "      <td>M</td>\n",
              "      <td>19</td>\n",
              "    </tr>\n",
              "  </tbody>\n",
              "</table>\n",
              "</div>"
            ],
            "text/plain": [
              "    Balance Gender  age\n",
              "0  58154.74      M   33\n",
              "1  50383.16      M   38\n",
              "2  58111.04      M   33\n",
              "3  54980.99      M   40\n",
              "4  50671.14      M   19"
            ]
          },
          "metadata": {
            "tags": []
          },
          "execution_count": 190
        }
      ]
    },
    {
      "cell_type": "code",
      "metadata": {
        "id": "eKeuIpg-Q91Y",
        "colab_type": "code",
        "colab": {
          "base_uri": "https://localhost:8080/",
          "height": 204
        },
        "outputId": "d7f046d5-9dad-42d3-db6e-0f8c625e1b1c"
      },
      "source": [
        "poordf.head(5)"
      ],
      "execution_count": 191,
      "outputs": [
        {
          "output_type": "execute_result",
          "data": {
            "text/html": [
              "<div>\n",
              "<style scoped>\n",
              "    .dataframe tbody tr th:only-of-type {\n",
              "        vertical-align: middle;\n",
              "    }\n",
              "\n",
              "    .dataframe tbody tr th {\n",
              "        vertical-align: top;\n",
              "    }\n",
              "\n",
              "    .dataframe thead th {\n",
              "        text-align: right;\n",
              "    }\n",
              "</style>\n",
              "<table border=\"1\" class=\"dataframe\">\n",
              "  <thead>\n",
              "    <tr style=\"text-align: right;\">\n",
              "      <th></th>\n",
              "      <th>Balance</th>\n",
              "      <th>Gender</th>\n",
              "      <th>age</th>\n",
              "    </tr>\n",
              "  </thead>\n",
              "  <tbody>\n",
              "    <tr>\n",
              "      <th>0</th>\n",
              "      <td>35.39</td>\n",
              "      <td>F</td>\n",
              "      <td>26</td>\n",
              "    </tr>\n",
              "    <tr>\n",
              "      <th>1</th>\n",
              "      <td>21.20</td>\n",
              "      <td>F</td>\n",
              "      <td>26</td>\n",
              "    </tr>\n",
              "    <tr>\n",
              "      <th>2</th>\n",
              "      <td>5.71</td>\n",
              "      <td>M</td>\n",
              "      <td>38</td>\n",
              "    </tr>\n",
              "    <tr>\n",
              "      <th>3</th>\n",
              "      <td>2117.22</td>\n",
              "      <td>F</td>\n",
              "      <td>40</td>\n",
              "    </tr>\n",
              "    <tr>\n",
              "      <th>4</th>\n",
              "      <td>17.95</td>\n",
              "      <td>F</td>\n",
              "      <td>26</td>\n",
              "    </tr>\n",
              "  </tbody>\n",
              "</table>\n",
              "</div>"
            ],
            "text/plain": [
              "   Balance Gender  age\n",
              "0    35.39      F   26\n",
              "1    21.20      F   26\n",
              "2     5.71      M   38\n",
              "3  2117.22      F   40\n",
              "4    17.95      F   26"
            ]
          },
          "metadata": {
            "tags": []
          },
          "execution_count": 191
        }
      ]
    },
    {
      "cell_type": "markdown",
      "metadata": {
        "id": "vxrXBDY1XFJp",
        "colab_type": "text"
      },
      "source": [
        "#Finding Salaries of the customers\n"
      ]
    },
    {
      "cell_type": "code",
      "metadata": {
        "id": "WF4GKQXlQ911",
        "colab_type": "code",
        "colab": {
          "base_uri": "https://localhost:8080/",
          "height": 235
        },
        "outputId": "6c31c5b9-7270-460b-dda0-02a7f05e6519"
      },
      "source": [
        "#Finding Salaries of the customers\n",
        "df_salaries = df[df[\"txn_description\"]==\"PAY/SALARY\"].groupby(\"customer_id\").mean()\n",
        "df_salaries.head()\n"
      ],
      "execution_count": 192,
      "outputs": [
        {
          "output_type": "execute_result",
          "data": {
            "text/html": [
              "<div>\n",
              "<style scoped>\n",
              "    .dataframe tbody tr th:only-of-type {\n",
              "        vertical-align: middle;\n",
              "    }\n",
              "\n",
              "    .dataframe tbody tr th {\n",
              "        vertical-align: top;\n",
              "    }\n",
              "\n",
              "    .dataframe thead th {\n",
              "        text-align: right;\n",
              "    }\n",
              "</style>\n",
              "<table border=\"1\" class=\"dataframe\">\n",
              "  <thead>\n",
              "    <tr style=\"text-align: right;\">\n",
              "      <th></th>\n",
              "      <th>card_present_flag</th>\n",
              "      <th>merchant_code</th>\n",
              "      <th>balance</th>\n",
              "      <th>age</th>\n",
              "      <th>amount</th>\n",
              "      <th>annual_salary</th>\n",
              "    </tr>\n",
              "    <tr>\n",
              "      <th>customer_id</th>\n",
              "      <th></th>\n",
              "      <th></th>\n",
              "      <th></th>\n",
              "      <th></th>\n",
              "      <th></th>\n",
              "      <th></th>\n",
              "    </tr>\n",
              "  </thead>\n",
              "  <tbody>\n",
              "    <tr>\n",
              "      <th>CUS-1005756958</th>\n",
              "      <td>NaN</td>\n",
              "      <td>0.0</td>\n",
              "      <td>4718.665385</td>\n",
              "      <td>53</td>\n",
              "      <td>970.47</td>\n",
              "      <td>970</td>\n",
              "    </tr>\n",
              "    <tr>\n",
              "      <th>CUS-1117979751</th>\n",
              "      <td>NaN</td>\n",
              "      <td>0.0</td>\n",
              "      <td>11957.202857</td>\n",
              "      <td>21</td>\n",
              "      <td>3578.65</td>\n",
              "      <td>3578</td>\n",
              "    </tr>\n",
              "    <tr>\n",
              "      <th>CUS-1140341822</th>\n",
              "      <td>NaN</td>\n",
              "      <td>0.0</td>\n",
              "      <td>5841.720000</td>\n",
              "      <td>28</td>\n",
              "      <td>1916.51</td>\n",
              "      <td>1916</td>\n",
              "    </tr>\n",
              "    <tr>\n",
              "      <th>CUS-1147642491</th>\n",
              "      <td>NaN</td>\n",
              "      <td>0.0</td>\n",
              "      <td>8813.467692</td>\n",
              "      <td>34</td>\n",
              "      <td>1711.39</td>\n",
              "      <td>1711</td>\n",
              "    </tr>\n",
              "    <tr>\n",
              "      <th>CUS-1196156254</th>\n",
              "      <td>NaN</td>\n",
              "      <td>0.0</td>\n",
              "      <td>23845.717143</td>\n",
              "      <td>34</td>\n",
              "      <td>3903.73</td>\n",
              "      <td>3903</td>\n",
              "    </tr>\n",
              "  </tbody>\n",
              "</table>\n",
              "</div>"
            ],
            "text/plain": [
              "                card_present_flag  merchant_code  ...   amount  annual_salary\n",
              "customer_id                                       ...                        \n",
              "CUS-1005756958                NaN            0.0  ...   970.47            970\n",
              "CUS-1117979751                NaN            0.0  ...  3578.65           3578\n",
              "CUS-1140341822                NaN            0.0  ...  1916.51           1916\n",
              "CUS-1147642491                NaN            0.0  ...  1711.39           1711\n",
              "CUS-1196156254                NaN            0.0  ...  3903.73           3903\n",
              "\n",
              "[5 rows x 6 columns]"
            ]
          },
          "metadata": {
            "tags": []
          },
          "execution_count": 192
        }
      ]
    },
    {
      "cell_type": "code",
      "metadata": {
        "id": "MELWT976V2bl",
        "colab_type": "code",
        "colab": {}
      },
      "source": [
        "salary=[]\n",
        "for customer_id in df['customer_id']:\n",
        "  salary.append(int(df_salaries.loc[customer_id]['amount']))\n",
        "df['annual_salary']=salary"
      ],
      "execution_count": 193,
      "outputs": []
    },
    {
      "cell_type": "code",
      "metadata": {
        "id": "DxUal5JXV4d0",
        "colab_type": "code",
        "colab": {
          "base_uri": "https://localhost:8080/",
          "height": 235
        },
        "outputId": "770135b2-7a32-427e-aea8-05b14deddca1"
      },
      "source": [
        "df_cus=df.groupby('customer_id').mean()\n",
        "df_cus.head()"
      ],
      "execution_count": 194,
      "outputs": [
        {
          "output_type": "execute_result",
          "data": {
            "text/html": [
              "<div>\n",
              "<style scoped>\n",
              "    .dataframe tbody tr th:only-of-type {\n",
              "        vertical-align: middle;\n",
              "    }\n",
              "\n",
              "    .dataframe tbody tr th {\n",
              "        vertical-align: top;\n",
              "    }\n",
              "\n",
              "    .dataframe thead th {\n",
              "        text-align: right;\n",
              "    }\n",
              "</style>\n",
              "<table border=\"1\" class=\"dataframe\">\n",
              "  <thead>\n",
              "    <tr style=\"text-align: right;\">\n",
              "      <th></th>\n",
              "      <th>card_present_flag</th>\n",
              "      <th>merchant_code</th>\n",
              "      <th>balance</th>\n",
              "      <th>age</th>\n",
              "      <th>amount</th>\n",
              "      <th>annual_salary</th>\n",
              "    </tr>\n",
              "    <tr>\n",
              "      <th>customer_id</th>\n",
              "      <th></th>\n",
              "      <th></th>\n",
              "      <th></th>\n",
              "      <th></th>\n",
              "      <th></th>\n",
              "      <th></th>\n",
              "    </tr>\n",
              "  </thead>\n",
              "  <tbody>\n",
              "    <tr>\n",
              "      <th>CUS-1005756958</th>\n",
              "      <td>0.812500</td>\n",
              "      <td>0.0</td>\n",
              "      <td>2275.852055</td>\n",
              "      <td>53</td>\n",
              "      <td>222.862603</td>\n",
              "      <td>970</td>\n",
              "    </tr>\n",
              "    <tr>\n",
              "      <th>CUS-1117979751</th>\n",
              "      <td>0.826923</td>\n",
              "      <td>0.0</td>\n",
              "      <td>9829.929000</td>\n",
              "      <td>21</td>\n",
              "      <td>339.843700</td>\n",
              "      <td>3578</td>\n",
              "    </tr>\n",
              "    <tr>\n",
              "      <th>CUS-1140341822</th>\n",
              "      <td>0.815385</td>\n",
              "      <td>0.0</td>\n",
              "      <td>5699.212250</td>\n",
              "      <td>28</td>\n",
              "      <td>212.632500</td>\n",
              "      <td>1916</td>\n",
              "    </tr>\n",
              "    <tr>\n",
              "      <th>CUS-1147642491</th>\n",
              "      <td>0.750000</td>\n",
              "      <td>0.0</td>\n",
              "      <td>9032.841186</td>\n",
              "      <td>34</td>\n",
              "      <td>245.600169</td>\n",
              "      <td>1711</td>\n",
              "    </tr>\n",
              "    <tr>\n",
              "      <th>CUS-1196156254</th>\n",
              "      <td>0.785276</td>\n",
              "      <td>0.0</td>\n",
              "      <td>22272.433755</td>\n",
              "      <td>34</td>\n",
              "      <td>147.145796</td>\n",
              "      <td>3903</td>\n",
              "    </tr>\n",
              "  </tbody>\n",
              "</table>\n",
              "</div>"
            ],
            "text/plain": [
              "                card_present_flag  merchant_code  ...      amount  annual_salary\n",
              "customer_id                                       ...                           \n",
              "CUS-1005756958           0.812500            0.0  ...  222.862603            970\n",
              "CUS-1117979751           0.826923            0.0  ...  339.843700           3578\n",
              "CUS-1140341822           0.815385            0.0  ...  212.632500           1916\n",
              "CUS-1147642491           0.750000            0.0  ...  245.600169           1711\n",
              "CUS-1196156254           0.785276            0.0  ...  147.145796           3903\n",
              "\n",
              "[5 rows x 6 columns]"
            ]
          },
          "metadata": {
            "tags": []
          },
          "execution_count": 194
        }
      ]
    },
    {
      "cell_type": "markdown",
      "metadata": {
        "id": "IttYxSIMW6i-",
        "colab_type": "text"
      },
      "source": [
        "#PREDICTIVE ANALYTICS"
      ]
    },
    {
      "cell_type": "code",
      "metadata": {
        "id": "2V30F1XXW9M0",
        "colab_type": "code",
        "colab": {}
      },
      "source": [
        "x=df_cus.iloc[: ,:-1]\n",
        "x.drop(columns='merchant_code',inplace=True)\n",
        "x=round(x,2)\n",
        "y=df_cus.iloc[:,-1:]\n",
        "y=round(y,2)\n",
        "X_train,X_test,y_train,y_test=train_test_split(x,y,test_size=0.2,random_state=42)"
      ],
      "execution_count": 195,
      "outputs": []
    },
    {
      "cell_type": "markdown",
      "metadata": {
        "id": "_QPoqf1mbExw",
        "colab_type": "text"
      },
      "source": [
        "#Linear Regression"
      ]
    },
    {
      "cell_type": "code",
      "metadata": {
        "id": "7WP0Ca9GXsxr",
        "colab_type": "code",
        "colab": {}
      },
      "source": [
        "lr = LinearRegression()\n",
        "lr.fit(X_train,y_train)\n",
        "salary_pred=lr.predict(X_test)\n",
        "r1=lr.score(X_test, y_test)\n"
      ],
      "execution_count": 196,
      "outputs": []
    },
    {
      "cell_type": "markdown",
      "metadata": {
        "id": "DDJsUWvEbmA4",
        "colab_type": "text"
      },
      "source": [
        "#Decision Tree Regressor"
      ]
    },
    {
      "cell_type": "code",
      "metadata": {
        "id": "M9iWoK0WgC--",
        "colab_type": "code",
        "colab": {
          "base_uri": "https://localhost:8080/",
          "height": 241
        },
        "outputId": "9d8c6dbf-d1c2-4c67-aa22-ad21993eb9cb"
      },
      "source": [
        "df_cat = df[[\"txn_description\", \"gender\", \"age\", \"merchant_state\", \"movement\"]]\n",
        "a=pd.get_dummies(df_cat)\n",
        "a.head(5)"
      ],
      "execution_count": 197,
      "outputs": [
        {
          "output_type": "execute_result",
          "data": {
            "text/html": [
              "<div>\n",
              "<style scoped>\n",
              "    .dataframe tbody tr th:only-of-type {\n",
              "        vertical-align: middle;\n",
              "    }\n",
              "\n",
              "    .dataframe tbody tr th {\n",
              "        vertical-align: top;\n",
              "    }\n",
              "\n",
              "    .dataframe thead th {\n",
              "        text-align: right;\n",
              "    }\n",
              "</style>\n",
              "<table border=\"1\" class=\"dataframe\">\n",
              "  <thead>\n",
              "    <tr style=\"text-align: right;\">\n",
              "      <th></th>\n",
              "      <th>age</th>\n",
              "      <th>txn_description_INTER BANK</th>\n",
              "      <th>txn_description_PAY/SALARY</th>\n",
              "      <th>txn_description_PAYMENT</th>\n",
              "      <th>txn_description_PHONE BANK</th>\n",
              "      <th>txn_description_POS</th>\n",
              "      <th>txn_description_SALES-POS</th>\n",
              "      <th>gender_F</th>\n",
              "      <th>gender_M</th>\n",
              "      <th>merchant_state_ACT</th>\n",
              "      <th>merchant_state_NSW</th>\n",
              "      <th>merchant_state_NT</th>\n",
              "      <th>merchant_state_QLD</th>\n",
              "      <th>merchant_state_SA</th>\n",
              "      <th>merchant_state_TAS</th>\n",
              "      <th>merchant_state_VIC</th>\n",
              "      <th>merchant_state_WA</th>\n",
              "      <th>movement_credit</th>\n",
              "      <th>movement_debit</th>\n",
              "    </tr>\n",
              "  </thead>\n",
              "  <tbody>\n",
              "    <tr>\n",
              "      <th>0</th>\n",
              "      <td>26</td>\n",
              "      <td>0</td>\n",
              "      <td>0</td>\n",
              "      <td>0</td>\n",
              "      <td>0</td>\n",
              "      <td>1</td>\n",
              "      <td>0</td>\n",
              "      <td>1</td>\n",
              "      <td>0</td>\n",
              "      <td>0</td>\n",
              "      <td>0</td>\n",
              "      <td>0</td>\n",
              "      <td>1</td>\n",
              "      <td>0</td>\n",
              "      <td>0</td>\n",
              "      <td>0</td>\n",
              "      <td>0</td>\n",
              "      <td>0</td>\n",
              "      <td>1</td>\n",
              "    </tr>\n",
              "    <tr>\n",
              "      <th>1</th>\n",
              "      <td>26</td>\n",
              "      <td>0</td>\n",
              "      <td>0</td>\n",
              "      <td>0</td>\n",
              "      <td>0</td>\n",
              "      <td>0</td>\n",
              "      <td>1</td>\n",
              "      <td>1</td>\n",
              "      <td>0</td>\n",
              "      <td>0</td>\n",
              "      <td>1</td>\n",
              "      <td>0</td>\n",
              "      <td>0</td>\n",
              "      <td>0</td>\n",
              "      <td>0</td>\n",
              "      <td>0</td>\n",
              "      <td>0</td>\n",
              "      <td>0</td>\n",
              "      <td>1</td>\n",
              "    </tr>\n",
              "    <tr>\n",
              "      <th>2</th>\n",
              "      <td>38</td>\n",
              "      <td>0</td>\n",
              "      <td>0</td>\n",
              "      <td>0</td>\n",
              "      <td>0</td>\n",
              "      <td>1</td>\n",
              "      <td>0</td>\n",
              "      <td>0</td>\n",
              "      <td>1</td>\n",
              "      <td>0</td>\n",
              "      <td>1</td>\n",
              "      <td>0</td>\n",
              "      <td>0</td>\n",
              "      <td>0</td>\n",
              "      <td>0</td>\n",
              "      <td>0</td>\n",
              "      <td>0</td>\n",
              "      <td>0</td>\n",
              "      <td>1</td>\n",
              "    </tr>\n",
              "    <tr>\n",
              "      <th>3</th>\n",
              "      <td>40</td>\n",
              "      <td>0</td>\n",
              "      <td>0</td>\n",
              "      <td>0</td>\n",
              "      <td>0</td>\n",
              "      <td>0</td>\n",
              "      <td>1</td>\n",
              "      <td>1</td>\n",
              "      <td>0</td>\n",
              "      <td>0</td>\n",
              "      <td>0</td>\n",
              "      <td>0</td>\n",
              "      <td>1</td>\n",
              "      <td>0</td>\n",
              "      <td>0</td>\n",
              "      <td>0</td>\n",
              "      <td>0</td>\n",
              "      <td>0</td>\n",
              "      <td>1</td>\n",
              "    </tr>\n",
              "    <tr>\n",
              "      <th>4</th>\n",
              "      <td>26</td>\n",
              "      <td>0</td>\n",
              "      <td>0</td>\n",
              "      <td>0</td>\n",
              "      <td>0</td>\n",
              "      <td>0</td>\n",
              "      <td>1</td>\n",
              "      <td>1</td>\n",
              "      <td>0</td>\n",
              "      <td>0</td>\n",
              "      <td>0</td>\n",
              "      <td>0</td>\n",
              "      <td>1</td>\n",
              "      <td>0</td>\n",
              "      <td>0</td>\n",
              "      <td>0</td>\n",
              "      <td>0</td>\n",
              "      <td>0</td>\n",
              "      <td>1</td>\n",
              "    </tr>\n",
              "  </tbody>\n",
              "</table>\n",
              "</div>"
            ],
            "text/plain": [
              "   age  txn_description_INTER BANK  ...  movement_credit  movement_debit\n",
              "0   26                           0  ...                0               1\n",
              "1   26                           0  ...                0               1\n",
              "2   38                           0  ...                0               1\n",
              "3   40                           0  ...                0               1\n",
              "4   26                           0  ...                0               1\n",
              "\n",
              "[5 rows x 19 columns]"
            ]
          },
          "metadata": {
            "tags": []
          },
          "execution_count": 197
        }
      ]
    },
    {
      "cell_type": "code",
      "metadata": {
        "id": "GHypwLyyvs-b",
        "colab_type": "code",
        "colab": {}
      },
      "source": [
        "N_train = int(len(df)*0.8)\n",
        "X_train = pd.get_dummies(df_cat).iloc[:N_train]\n",
        "Y_train = df[\"annual_salary\"].iloc[:N_train]\n",
        "X_test = pd.get_dummies(df_cat).iloc[N_train:]\n",
        "Y_test = df[\"annual_salary\"].iloc[N_train:]"
      ],
      "execution_count": 198,
      "outputs": []
    },
    {
      "cell_type": "code",
      "metadata": {
        "id": "jNwUEy_hzLDE",
        "colab_type": "code",
        "colab": {}
      },
      "source": [
        "decision_tree_reg = DecisionTreeRegressor()\n",
        "decision_tree_reg.fit(X_train, Y_train)\n",
        "decision_tree_reg.score(X_train, Y_train)\n",
        "decision_tree_reg.predict(X_test)\n",
        "r2=decision_tree_reg.score(X_test, Y_test)\n"
      ],
      "execution_count": 199,
      "outputs": []
    },
    {
      "cell_type": "code",
      "metadata": {
        "id": "kWpAU4rLz1HT",
        "colab_type": "code",
        "colab": {
          "base_uri": "https://localhost:8080/",
          "height": 34
        },
        "outputId": "332bc324-47f0-4828-c14a-57bc175ede91"
      },
      "source": [
        "print('THE LINEAR REGRESSION MODEL GIVES A VERY BAD SCORE OF: ',round(r1*100,2),'%',\n",
        "      'WEHRE AS THE DECISION TREE MODEL GAVE A MUCH HIGHER SCORE OF: ',round(r2*100,2),'%')"
      ],
      "execution_count": 206,
      "outputs": [
        {
          "output_type": "stream",
          "text": [
            "THE LINEAR REGRESSION MODEL GIVES A VERY BAD SCORE OF:  -2.83 % WEHRE AS THE DECISION TREE MODEL GAVE A MUCH HIGHER SCORE OF:  68.31 %\n"
          ],
          "name": "stdout"
        }
      ]
    },
    {
      "cell_type": "code",
      "metadata": {
        "id": "-UG0r65c0SPg",
        "colab_type": "code",
        "colab": {}
      },
      "source": [
        ""
      ],
      "execution_count": null,
      "outputs": []
    }
  ]
}